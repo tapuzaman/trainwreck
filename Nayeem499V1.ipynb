{
 "cells": [
  {
   "cell_type": "code",
   "execution_count": 9,
   "metadata": {},
   "outputs": [],
   "source": [
    "%matplotlib inline\n",
    "%reload_ext autoreload\n",
    "%autoreload 2\n",
    "\n",
    "from pathlib import Path\n",
    "\n",
    "#from fastai.conv_learner import ConvLearner\n",
    "#from fastai.transforms import RandomRotate, RandomLighting, tfms_from_model, CropType, TfmType\n",
    "\n",
    "from fastai.basics import *\n",
    "\n",
    "from torch import nn\n",
    "from torch import optim\n",
    "from torchvision.models.resnet import resnet101\n",
    "\n",
    "from matplotlib import pyplot as plt\n",
    "from matplotlib import patches, patheffects\n",
    "\n",
    "import pandas as pd\n",
    "import numpy as np\n"
   ]
  },
  {
   "cell_type": "code",
   "execution_count": null,
   "metadata": {},
   "outputs": [],
   "source": []
  }
 ],
 "metadata": {
  "kernelspec": {
   "display_name": "Python 3",
   "language": "python",
   "name": "python3"
  },
  "language_info": {
   "codemirror_mode": {
    "name": "ipython",
    "version": 3
   },
   "file_extension": ".py",
   "mimetype": "text/x-python",
   "name": "python",
   "nbconvert_exporter": "python",
   "pygments_lexer": "ipython3",
   "version": "3.6.6"
  }
 },
 "nbformat": 4,
 "nbformat_minor": 2
}
